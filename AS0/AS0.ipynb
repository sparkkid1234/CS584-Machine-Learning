{
 "cells": [
  {
   "cell_type": "markdown",
   "metadata": {},
   "source": [
    "- TUAN TRAN\n",
    "- A20357888\n",
    "- CS584 - Summer 2020"
   ]
  },
  {
   "cell_type": "code",
   "execution_count": 38,
   "metadata": {},
   "outputs": [],
   "source": [
    "import numpy as np\n",
    "import math\n"
   ]
  },
  {
   "cell_type": "code",
   "execution_count": 23,
   "metadata": {},
   "outputs": [
    {
     "name": "stdout",
     "output_type": "stream",
     "text": [
      "1: 2A-B = [-2 -1  0]\n",
      "2: ||A|| = 3.7416573867739413, angle of A relative x-axis = 74.498640433063 degrees\n",
      "3: A_hat = [0.26726124 0.53452248 0.80178373]\n",
      "4: direction cosine = [0.26726124 0.53452248 0.80178373]\n",
      "5: AB = BA = 32\n",
      "6: Angle between A and B = 12.933154491899135 degrees\n",
      "8: AxB = [-3  6 -3], BxA = [ 3 -6  3]\n",
      "9: AxB = vector perpendicular to both A and B = [-3  6 -3]\n",
      "11: A_T*B = 32, AB_T = 32\n"
     ]
    }
   ],
   "source": [
    "# A\n",
    "A = np.array([1,2,3])\n",
    "B = np.array([4,5,6])\n",
    "C = np.array([-1,1,3])\n",
    "# 1\n",
    "print(f\"1: 2A-B = {2*A - B}\")\n",
    "two_a = math.sqrt(np.sum(A**2))\n",
    "two_b = math.degrees(math.acos(1/(two_a)))\n",
    "print(f\"2: ||A|| = {two_a}, angle of A relative x-axis = {two_b} degrees\")\n",
    "\n",
    "# 3\n",
    "print(f\"3: A_hat = {A/two_a}\")\n",
    "\n",
    "# 4\n",
    "print(f\"4: direction cosine = {A/two_a}\")\n",
    "\n",
    "# 5\n",
    "print(f\"5: AB = BA = {np.dot(A,B)}\")\n",
    "\n",
    "# 6\n",
    "length_B = math.sqrt(np.sum(B**2))\n",
    "cos_alpha = np.dot(A,B)/(two_a*length_B)\n",
    "print(f\"6: Angle between A and B = {math.degrees(math.acos(cos_alpha))} degrees\")\n",
    "\n",
    "# 7 \n",
    "# 8\n",
    "print(f\"8: AxB = {np.cross(A,B)}, BxA = {np.cross(B,A)}\")\n",
    "\n",
    "# 9 \n",
    "print(f\"9: AxB = vector perpendicular to both A and B = {np.cross(A,B)}\")\n",
    "\n",
    "# 10\n",
    "print(f\"11: A_T*B = {np.dot(A.T,B)}, AB_T = {np.dot(A,B.T)}\")\n",
    "\n"
   ]
  },
  {
   "cell_type": "code",
   "execution_count": 32,
   "metadata": {},
   "outputs": [
    {
     "name": "stdout",
     "output_type": "stream",
     "text": [
      "1: 2A-B = \n",
      "[[ 1  2  5]\n",
      " [ 6 -5 10]\n",
      " [-3 12 -3]]\n",
      "2: AB = \n",
      "[[ 14  -2  -4]\n",
      " [  9   0  15]\n",
      " [  7   7 -21]]\n",
      " BA = \n",
      "[[  9   3   8]\n",
      " [  6 -18  13]\n",
      " [ -5  15   2]]\n",
      "3: (AB)_T = \n",
      "[[ 14   9   7]\n",
      " [ -2   0   7]\n",
      " [ -4  15 -21]]\n",
      " B_T*A_T = \n",
      "[[ 14   9   7]\n",
      " [ -2   0   7]\n",
      " [ -4  15 -21]]\n",
      "4: |A| = 55.0, |C| = 7.494005416219837e-16\n",
      "6: A^(-1) = \n",
      "[[-0.23636364  0.30909091  0.21818182]\n",
      " [ 0.07272727 -0.01818182  0.16363636]\n",
      " [ 0.36363636 -0.09090909 -0.18181818]] \n",
      "B^(-1) = \n",
      "[[ 0.16666667  0.0952381   0.21428571]\n",
      " [ 0.33333333  0.04761905 -0.14285714]\n",
      " [ 0.16666667 -0.19047619  0.07142857]]\n"
     ]
    }
   ],
   "source": [
    "# B\n",
    "A = np.matrix([[1,2,3],[4,-2,3],[0,5,-1]])\n",
    "B = np.matrix([[1,2,1],[2,1,-4],[3,-2,1]])\n",
    "C = np.matrix([[1,2,3],[4,5,6],[-1,1,3]])\n",
    "\n",
    "# 1\n",
    "print(f\"1: 2A-B = \\n{2*A-B}\")\n",
    "\n",
    "# 2\n",
    "print(f\"2: AB = \\n{np.dot(A,B)}\\n BA = \\n{np.dot(B,A)}\")\n",
    "\n",
    "# 3\n",
    "print(f\"3: (AB)_T = \\n{np.dot(A,B).T}\\n B_T*A_T = \\n{np.dot(B.T,A.T)}\")\n",
    "\n",
    "# 4\n",
    "print(f\"4: |A| = {round(np.linalg.det(A),1)}, |C| = {np.linalg.det(C)}\")\n",
    "\n",
    "# 6\n",
    "print(f\"6: A^(-1) = \\n{np.linalg.inv(A)} \\nB^(-1) = \\n{np.linalg.inv(B)}\")\n"
   ]
  },
  {
   "cell_type": "code",
   "execution_count": 37,
   "metadata": {},
   "outputs": [
    {
     "name": "stdout",
     "output_type": "stream",
     "text": [
      "1: eigenvalues = [-1.  4.], eigenvectors = \n",
      "[[-0.70710678 -0.5547002 ]\n",
      " [ 0.70710678 -0.83205029]]\n",
      "3: dot product of A's eigenvectors = [[-0.03846154]]\n",
      "3: dot product of A's eigenvectors = [[0.]]\n"
     ]
    }
   ],
   "source": [
    "# C\n",
    "A = np.matrix([[1,2],[3,2]])\n",
    "B = np.matrix([[2,-2],[-2,5]])\n",
    "\n",
    "# 1\n",
    "eig_val, eig_v = np.linalg.eig(A)\n",
    "print(f\"1: eigenvalues = {eig_val}, eigenvectors = \\n{eig_v}\")\n",
    "\n",
    "# 3\n",
    "print(f\"3: dot product of A's eigenvectors = {np.dot(eig_v[0],eig_v[1].T)}\")\n",
    "\n",
    "# 4\n",
    "eigval_b, eigvec_b = np.linalg.eig(B)\n",
    "print(f\"3: dot product of A's eigenvectors = {np.dot(eigvec_b[0],eigvec_b[1].T)}\")\n",
    "\n",
    "\n"
   ]
  }
 ],
 "metadata": {
  "kernelspec": {
   "display_name": "Python 3",
   "language": "python",
   "name": "python3"
  },
  "language_info": {
   "codemirror_mode": {
    "name": "ipython",
    "version": 3
   },
   "file_extension": ".py",
   "mimetype": "text/x-python",
   "name": "python",
   "nbconvert_exporter": "python",
   "pygments_lexer": "ipython3",
   "version": "3.7.3"
  }
 },
 "nbformat": 4,
 "nbformat_minor": 2
}
