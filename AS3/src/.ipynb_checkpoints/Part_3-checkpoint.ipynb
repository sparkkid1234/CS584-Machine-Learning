{
 "cells": [
  {
   "cell_type": "code",
   "execution_count": null,
   "metadata": {
    "colab": {
     "base_uri": "https://localhost:8080/",
     "height": 71
    },
    "colab_type": "code",
    "id": "UwSa2sZsNsxB",
    "outputId": "9a173485-684a-40b7-9631-47a5c5cd4eb7"
   },
   "outputs": [
    {
     "name": "stderr",
     "output_type": "stream",
     "text": [
      "/usr/local/lib/python3.6/dist-packages/statsmodels/tools/_testing.py:19: FutureWarning: pandas.util.testing is deprecated. Use the functions in the public API at pandas.testing instead.\n",
      "  import pandas.util.testing as tm\n"
     ]
    }
   ],
   "source": [
    "import matplotlib.pyplot as plt\n",
    "import random\n",
    "from sklearn.utils import shuffle\n",
    "from sklearn.model_selection import train_test_split\n",
    "from sklearn.model_selection import KFold\n",
    "from sklearn.metrics import *\n",
    "import numpy as np\n",
    "import seaborn as sns\n",
    "\n",
    "# Keras import\n",
    "from keras import models\n",
    "from keras import layers\n",
    "from keras import optimizers\n",
    "import keras.backend as K\n",
    "from keras.layers.normalization import BatchNormalization"
   ]
  },
  {
   "cell_type": "code",
   "execution_count": null,
   "metadata": {
    "colab": {
     "base_uri": "https://localhost:8080/",
     "height": 34
    },
    "colab_type": "code",
    "id": "Esvqrw_eNxQZ",
    "outputId": "f4678915-9371-4ee9-85b3-467ccba82b6b"
   },
   "outputs": [
    {
     "data": {
      "text/plain": [
       "['/device:GPU:0']"
      ]
     },
     "execution_count": 2,
     "metadata": {
      "tags": []
     },
     "output_type": "execute_result"
    }
   ],
   "source": [
    "# Inspect whether colab is using GPU\n",
    "import tensorflow as tf\n",
    "import keras.backend.tensorflow_backend as tfback\n",
    "\n",
    "def _get_available_gpus():\n",
    "    \"\"\"Get a list of available gpu devices (formatted as strings).\n",
    "\n",
    "    # Returns\n",
    "        A list of available GPU devices.\n",
    "    \"\"\"\n",
    "    #global _LOCAL_DEVICES\n",
    "    if tfback._LOCAL_DEVICES is None:\n",
    "        devices = tf.config.list_logical_devices()\n",
    "        tfback._LOCAL_DEVICES = [x.name for x in devices]\n",
    "    return [x for x in tfback._LOCAL_DEVICES if 'device:gpu' in x.lower()]\n",
    "  \n",
    "_get_available_gpus()"
   ]
  },
  {
   "cell_type": "code",
   "execution_count": null,
   "metadata": {
    "colab": {
     "base_uri": "https://localhost:8080/",
     "height": 51
    },
    "colab_type": "code",
    "id": "mRtRRLW3N9FU",
    "outputId": "b09bf03c-6f12-443a-dd2b-29bdbb8f9acd"
   },
   "outputs": [
    {
     "name": "stdout",
     "output_type": "stream",
     "text": [
      "Downloading data from https://s3.amazonaws.com/text-datasets/imdb.npz\n",
      "17465344/17464789 [==============================] - 0s 0us/step\n"
     ]
    }
   ],
   "source": [
    "# Load dataset and split into train/test data\n",
    "from keras.datasets import imdb\n",
    "num_words = 10000\n",
    "(train_data, train_labels), (test_data, test_labels) = imdb.load_data(num_words=num_words)"
   ]
  },
  {
   "cell_type": "code",
   "execution_count": null,
   "metadata": {
    "colab": {},
    "colab_type": "code",
    "id": "PlcJyv0RPJRH"
   },
   "outputs": [],
   "source": [
    "# Vectorize data via one-hot-encoding and split train data into train/val after encoding\n",
    "def vectorize_text(token_lists, num_features):\n",
    "    results = np.zeros((token_lists.shape[0],num_features))\n",
    "    for i, token_list in enumerate(token_lists):\n",
    "        results[i, token_list] = 1\n",
    "    return results\n",
    "\n",
    "# Vectorize\n",
    "X_train = vectorize_text(train_data, num_words)\n",
    "X_test = vectorize_text(test_data, num_words)\n",
    "y_train, y_test = train_labels, test_labels\n",
    "\n",
    "# Split train data into train/val\n",
    "X_train, X_val, y_train, y_val = train_test_split(X_train,y_train,test_size=0.3, random_state=42)"
   ]
  },
  {
   "cell_type": "code",
   "execution_count": null,
   "metadata": {
    "colab": {},
    "colab_type": "code",
    "id": "HABWulwIVe7u"
   },
   "outputs": [],
   "source": [
    "# DNN implementation\n",
    "class DNN():\n",
    "    def __init__(self, input_dim, output_dim, depth, units,dropout=False,dropout_rate=0.4,batch_norm=False):\n",
    "        \"\"\"\n",
    "        input_dim = number of features\n",
    "        output_dim = number of output unit\n",
    "        depth = number of hidden layers\n",
    "        units = number of hidden units per hidden layer\n",
    "        \"\"\"\n",
    "        self.input_dim = input_dim\n",
    "        self.output_dim = output_dim\n",
    "        self.depth = depth\n",
    "        self.units = units\n",
    "        self.dropout=dropout\n",
    "        self.dropout_rate = dropout_rate\n",
    "        self.batch_norm=batch_norm\n",
    "        \n",
    "    def build_model(self,optimizer='adam',hidden_act = 'relu',out_act='sigmoid',learning_rate=0.000001,loss = \"binary_crossentropy\",metrics = ['acc']):\n",
    "        self.model = models.Sequential()\n",
    "        self.model.add(layers.Dense(self.units, input_shape=(self.input_dim,)))\n",
    "        if self.batch_norm:\n",
    "            self.model.add(BatchNormalization())\n",
    "        self.model.add(layers.Activation(hidden_act))\n",
    "        if self.dropout:\n",
    "            self.model.add(layers.Dropout(self.dropout_rate))\n",
    "        for i in range(self.depth-1):\n",
    "            self.model.add(layers.Dense(self.units, activation = hidden_act))\n",
    "            if self.dropout:\n",
    "                self.model.add(layers.Dropout(self.dropout_rate))\n",
    "        self.model.add(layers.Dense(self.output_dim,activation = out_act))\n",
    "        \n",
    "        opt = None\n",
    "        if optimizer == 'adam':\n",
    "            opt = optimizers.Adam(lr=learning_rate)\n",
    "        if optimizer == 'rmsprop':\n",
    "            opt = optimizers.RMSprop(lr=learning_rate)\n",
    "        if optimizer == 'adagrad':\n",
    "            opt = optimizers.Adagrad(lr=learning_rate)\n",
    "        if optimizer == 'sgd':\n",
    "            opt = optimizers.SGD(lr=learning_rate)\n",
    "        if optimizer == 'sgd_nesterov':\n",
    "            opt = optimizers.SGD(lr=learning_rate,nesterov=True)\n",
    "        self.model.compile(\n",
    "                optimizer=opt,\n",
    "                loss = loss,\n",
    "                metrics = metrics)\n",
    "        \n",
    "    def fit(self,inp,target,hyperparams, **kwargs):\n",
    "        K.clear_session()\n",
    "        if hyperparams:\n",
    "            self.build_model(**hyperparams)\n",
    "        else:\n",
    "            self.build_model()\n",
    "        self.history = self.model.fit(inp,target, **kwargs)\n",
    "\n",
    "    def predict(self,target, **kwargs):\n",
    "        return np.round(self.model.predict(target,**kwargs))"
   ]
  },
  {
   "cell_type": "code",
   "execution_count": null,
   "metadata": {
    "colab": {
     "base_uri": "https://localhost:8080/",
     "height": 1000
    },
    "colab_type": "code",
    "id": "hroRw87TXGiw",
    "outputId": "bd34507e-a264-41f0-d64e-a9bcd6af471a"
   },
   "outputs": [
    {
     "name": "stdout",
     "output_type": "stream",
     "text": [
      "Train on 17500 samples, validate on 7500 samples\n",
      "Epoch 1/40\n",
      "17500/17500 [==============================] - 2s 136us/step - loss: 0.6946 - acc: 0.5029 - val_loss: 0.6901 - val_acc: 0.5537\n",
      "Epoch 2/40\n",
      "17500/17500 [==============================] - 2s 125us/step - loss: 0.6907 - acc: 0.5323 - val_loss: 0.6864 - val_acc: 0.6097\n",
      "Epoch 3/40\n",
      "17500/17500 [==============================] - 2s 126us/step - loss: 0.6862 - acc: 0.5530 - val_loss: 0.6821 - val_acc: 0.6507\n",
      "Epoch 4/40\n",
      "17500/17500 [==============================] - 2s 125us/step - loss: 0.6830 - acc: 0.5686 - val_loss: 0.6770 - val_acc: 0.6864\n",
      "Epoch 5/40\n",
      "17500/17500 [==============================] - 2s 124us/step - loss: 0.6772 - acc: 0.5947 - val_loss: 0.6702 - val_acc: 0.7141\n",
      "Epoch 6/40\n",
      "17500/17500 [==============================] - 2s 124us/step - loss: 0.6694 - acc: 0.6271 - val_loss: 0.6610 - val_acc: 0.7361\n",
      "Epoch 7/40\n",
      "17500/17500 [==============================] - 2s 126us/step - loss: 0.6601 - acc: 0.6505 - val_loss: 0.6483 - val_acc: 0.7577\n",
      "Epoch 8/40\n",
      "17500/17500 [==============================] - 2s 126us/step - loss: 0.6473 - acc: 0.6847 - val_loss: 0.6311 - val_acc: 0.7724\n",
      "Epoch 9/40\n",
      "17500/17500 [==============================] - 2s 127us/step - loss: 0.6294 - acc: 0.7129 - val_loss: 0.6086 - val_acc: 0.7864\n",
      "Epoch 10/40\n",
      "17500/17500 [==============================] - 2s 126us/step - loss: 0.6081 - acc: 0.7366 - val_loss: 0.5803 - val_acc: 0.7993\n",
      "Epoch 11/40\n",
      "17500/17500 [==============================] - 2s 127us/step - loss: 0.5816 - acc: 0.7578 - val_loss: 0.5471 - val_acc: 0.8077\n",
      "Epoch 12/40\n",
      "17500/17500 [==============================] - 2s 127us/step - loss: 0.5511 - acc: 0.7800 - val_loss: 0.5111 - val_acc: 0.8188\n",
      "Epoch 13/40\n",
      "17500/17500 [==============================] - 2s 123us/step - loss: 0.5146 - acc: 0.8016 - val_loss: 0.4749 - val_acc: 0.8257\n",
      "Epoch 14/40\n",
      "17500/17500 [==============================] - 2s 125us/step - loss: 0.4833 - acc: 0.8107 - val_loss: 0.4410 - val_acc: 0.8368\n",
      "Epoch 15/40\n",
      "17500/17500 [==============================] - 2s 124us/step - loss: 0.4511 - acc: 0.8237 - val_loss: 0.4117 - val_acc: 0.8440\n",
      "Epoch 16/40\n",
      "17500/17500 [==============================] - 2s 124us/step - loss: 0.4229 - acc: 0.8363 - val_loss: 0.3874 - val_acc: 0.8505\n",
      "Epoch 17/40\n",
      "17500/17500 [==============================] - 2s 125us/step - loss: 0.3955 - acc: 0.8485 - val_loss: 0.3678 - val_acc: 0.8548\n",
      "Epoch 18/40\n",
      "17500/17500 [==============================] - 2s 127us/step - loss: 0.3731 - acc: 0.8528 - val_loss: 0.3508 - val_acc: 0.8591\n",
      "Epoch 19/40\n",
      "17500/17500 [==============================] - 2s 124us/step - loss: 0.3495 - acc: 0.8695 - val_loss: 0.3377 - val_acc: 0.8628\n",
      "Epoch 20/40\n",
      "17500/17500 [==============================] - 2s 125us/step - loss: 0.3376 - acc: 0.8694 - val_loss: 0.3274 - val_acc: 0.8655\n",
      "Epoch 21/40\n",
      "17500/17500 [==============================] - 2s 127us/step - loss: 0.3241 - acc: 0.8755 - val_loss: 0.3193 - val_acc: 0.8677\n",
      "Epoch 22/40\n",
      "17500/17500 [==============================] - 2s 125us/step - loss: 0.3093 - acc: 0.8809 - val_loss: 0.3125 - val_acc: 0.8703\n",
      "Epoch 23/40\n",
      "17500/17500 [==============================] - 2s 125us/step - loss: 0.2965 - acc: 0.8849 - val_loss: 0.3069 - val_acc: 0.8729\n",
      "Epoch 24/40\n",
      "17500/17500 [==============================] - 2s 123us/step - loss: 0.2822 - acc: 0.8925 - val_loss: 0.3028 - val_acc: 0.8737\n",
      "Epoch 25/40\n",
      "17500/17500 [==============================] - 2s 126us/step - loss: 0.2710 - acc: 0.8975 - val_loss: 0.2991 - val_acc: 0.8765\n",
      "Epoch 26/40\n",
      "17500/17500 [==============================] - 2s 125us/step - loss: 0.2606 - acc: 0.9005 - val_loss: 0.2966 - val_acc: 0.8779\n",
      "Epoch 27/40\n",
      "17500/17500 [==============================] - 2s 128us/step - loss: 0.2532 - acc: 0.9047 - val_loss: 0.2945 - val_acc: 0.8789\n",
      "Epoch 28/40\n",
      "17500/17500 [==============================] - 2s 127us/step - loss: 0.2482 - acc: 0.9042 - val_loss: 0.2930 - val_acc: 0.8796\n",
      "Epoch 29/40\n",
      "17500/17500 [==============================] - 2s 126us/step - loss: 0.2365 - acc: 0.9121 - val_loss: 0.2920 - val_acc: 0.8799\n",
      "Epoch 30/40\n",
      "17500/17500 [==============================] - 2s 125us/step - loss: 0.2294 - acc: 0.9131 - val_loss: 0.2905 - val_acc: 0.8811\n",
      "Epoch 31/40\n",
      "17500/17500 [==============================] - 2s 129us/step - loss: 0.2225 - acc: 0.9162 - val_loss: 0.2901 - val_acc: 0.8813\n",
      "Epoch 32/40\n",
      "17500/17500 [==============================] - 2s 129us/step - loss: 0.2162 - acc: 0.9166 - val_loss: 0.2899 - val_acc: 0.8816\n",
      "Epoch 33/40\n",
      "17500/17500 [==============================] - 2s 128us/step - loss: 0.2062 - acc: 0.9231 - val_loss: 0.2898 - val_acc: 0.8808\n",
      "Epoch 34/40\n",
      "17500/17500 [==============================] - 2s 130us/step - loss: 0.2045 - acc: 0.9225 - val_loss: 0.2899 - val_acc: 0.8816\n",
      "Epoch 35/40\n",
      "17500/17500 [==============================] - 2s 127us/step - loss: 0.2006 - acc: 0.9252 - val_loss: 0.2902 - val_acc: 0.8808\n",
      "Epoch 36/40\n",
      "17500/17500 [==============================] - 2s 125us/step - loss: 0.1934 - acc: 0.9262 - val_loss: 0.2907 - val_acc: 0.8819\n",
      "Epoch 37/40\n",
      "17500/17500 [==============================] - 2s 126us/step - loss: 0.1857 - acc: 0.9330 - val_loss: 0.2916 - val_acc: 0.8827\n",
      "Epoch 38/40\n",
      "17500/17500 [==============================] - 2s 127us/step - loss: 0.1810 - acc: 0.9328 - val_loss: 0.2928 - val_acc: 0.8833\n",
      "Epoch 39/40\n",
      "17500/17500 [==============================] - 2s 129us/step - loss: 0.1763 - acc: 0.9349 - val_loss: 0.2937 - val_acc: 0.8829\n",
      "Epoch 40/40\n",
      "17500/17500 [==============================] - 2s 130us/step - loss: 0.1707 - acc: 0.9376 - val_loss: 0.2949 - val_acc: 0.8836\n"
     ]
    }
   ],
   "source": [
    "\"\"\"\n",
    "Final config: 3 dense layers of 512 units each\n",
    "\"\"\"\n",
    "hyperparams = dict(learning_rate = 0.00001)\n",
    "dnn = DNN(num_words, 1, 3, 512,dropout=True)\n",
    "history = dnn.fit(\n",
    "    X_train, y_train,\n",
    "    hyperparams,\n",
    "    epochs = 40,\n",
    "    batch_size = 512,\n",
    "    validation_data = (X_val, y_val)\n",
    ")\n"
   ]
  },
  {
   "cell_type": "code",
   "execution_count": null,
   "metadata": {
    "colab": {
     "base_uri": "https://localhost:8080/",
     "height": 312
    },
    "colab_type": "code",
    "id": "T9Huawg-XHrQ",
    "outputId": "17b06c31-e46f-4be9-cc90-e9545ba72c3e"
   },
   "outputs": [
    {
     "data": {
      "text/plain": [
       "<matplotlib.legend.Legend at 0x7f6ee7a581d0>"
      ]
     },
     "execution_count": 29,
     "metadata": {
      "tags": []
     },
     "output_type": "execute_result"
    },
    {
     "data": {
      "image/png": "[encoded data removed]",
      "text/plain": [
       "<Figure size 432x288 with 1 Axes>"
      ]
     },
     "metadata": {
      "needs_background": "light",
      "tags": []
     },
     "output_type": "display_data"
    }
   ],
   "source": [
    "hist = dnn.history.history\n",
    "plt.figure()\n",
    "plt.plot(hist['loss'],'b',label=\"training loss\")\n",
    "plt.plot(hist['val_loss'],'r',label = \"validation loss\")\n",
    "plt.xlabel(\"Epochs\")\n",
    "plt.ylabel(\"Loss\")\n",
    "plt.title(f'IMDB - config: {hyperparams}')\n",
    "plt.legend()"
   ]
  },
  {
   "cell_type": "code",
   "execution_count": null,
   "metadata": {
    "colab": {
     "base_uri": "https://localhost:8080/",
     "height": 312
    },
    "colab_type": "code",
    "id": "FwasI7H1Y8pC",
    "outputId": "cc535715-a14d-4108-e673-62e12dd117a2"
   },
   "outputs": [
    {
     "data": {
      "text/plain": [
       "<matplotlib.legend.Legend at 0x7f6ee76706a0>"
      ]
     },
     "execution_count": 30,
     "metadata": {
      "tags": []
     },
     "output_type": "execute_result"
    },
    {
     "data": {
      "image/png": "[encoded data removed]",
      "text/plain": [
       "<Figure size 432x288 with 1 Axes>"
      ]
     },
     "metadata": {
      "needs_background": "light",
      "tags": []
     },
     "output_type": "display_data"
    }
   ],
   "source": [
    "hist = dnn.history.history\n",
    "plt.figure()\n",
    "plt.plot(hist['acc'],'b',label=\"training accuracy\")\n",
    "plt.plot(hist['val_acc'],'r',label = \"validation accuracy\")\n",
    "plt.xlabel(\"Epochs\")\n",
    "plt.ylabel(\"Accuracy\")\n",
    "plt.title(f'IMDB - config: {hyperparams}')\n",
    "plt.legend()"
   ]
  },
  {
   "cell_type": "code",
   "execution_count": null,
   "metadata": {
    "colab": {
     "base_uri": "https://localhost:8080/",
     "height": 51
    },
    "colab_type": "code",
    "id": "0gWqkxQrdbJP",
    "outputId": "248ae92a-8dc9-40cb-bc57-c26fb6918918"
   },
   "outputs": [
    {
     "name": "stdout",
     "output_type": "stream",
     "text": [
      "25000/25000 [==============================] - 3s 128us/step\n"
     ]
    },
    {
     "data": {
      "text/plain": [
       "[0.3055706264591217, 0.8831999897956848]"
      ]
     },
     "execution_count": 11,
     "metadata": {
      "tags": []
     },
     "output_type": "execute_result"
    }
   ],
   "source": [
    "# Evaluate on validation data\n",
    "loss, acc = dnn.model.evaluate(X_test,y_test)"
   ]
  },
  {
   "cell_type": "code",
   "execution_count": null,
   "metadata": {
    "colab": {
     "base_uri": "https://localhost:8080/",
     "height": 465
    },
    "colab_type": "code",
    "id": "pEP1OYOEydDL",
    "outputId": "0928e1cc-c723-4f22-b4b5-05620720369b"
   },
   "outputs": [
    {
     "name": "stdout",
     "output_type": "stream",
     "text": [
      "              precision    recall  f1-score   support\n",
      "\n",
      "           0       0.89      0.88      0.89     12500\n",
      "           1       0.88      0.89      0.89     12500\n",
      "\n",
      "    accuracy                           0.89     25000\n",
      "   macro avg       0.89      0.89      0.89     25000\n",
      "weighted avg       0.89      0.89      0.89     25000\n",
      "\n",
      "F1 score: 0.886958401863102\n"
     ]
    },
    {
     "data": {
      "image/png": "[encoded data removed]",
      "text/plain": [
       "<Figure size 432x288 with 2 Axes>"
      ]
     },
     "metadata": {
      "needs_background": "light",
      "tags": []
     },
     "output_type": "display_data"
    }
   ],
   "source": [
    "def result_report(y_preds, y, labels=None, target_names=None):\n",
    "    print(classification_report(y,y_preds,labels=labels,target_names=target_names))\n",
    "    print(\"F1 score: {}\".format(f1_score(y,y_preds,average='weighted')))\n",
    "    #print('Area under the curve score: {}'.format(roc_auc_score(y,y_preds,average='weighted')))\n",
    "    cm = confusion_matrix(y,y_preds)\n",
    "    ax= plt.subplot()\n",
    "    sns.heatmap(cm, annot=True, ax = ax,cmap='Greens')\n",
    "    ax.set_xlabel('Predicted labels')\n",
    "    ax.set_ylabel('True labels')\n",
    "    ax.set_title('Confusion Matrix')\n",
    "\n",
    "y_pred = dnn.predict(X_test)\n",
    "result_report(y_pred,y_test)"
   ]
  },
  {
   "cell_type": "code",
   "execution_count": null,
   "metadata": {
    "colab": {},
    "colab_type": "code",
    "id": "k_93POiA0Pbv"
   },
   "outputs": [],
   "source": []
  }
 ],
 "metadata": {
  "accelerator": "GPU",
  "colab": {
   "collapsed_sections": [],
   "name": "Part 3",
   "provenance": []
  },
  "kernelspec": {
   "display_name": "Python 3",
   "language": "python",
   "name": "python3"
  },
  "language_info": {
   "codemirror_mode": {
    "name": "ipython",
    "version": 3
   },
   "file_extension": ".py",
   "mimetype": "text/x-python",
   "name": "python",
   "nbconvert_exporter": "python",
   "pygments_lexer": "ipython3",
   "version": "3.7.3"
  }
 },
 "nbformat": 4,
 "nbformat_minor": 1
}
