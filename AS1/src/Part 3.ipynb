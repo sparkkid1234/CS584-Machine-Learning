{
 "cells": [
  {
   "cell_type": "code",
   "execution_count": 1,
   "metadata": {},
   "outputs": [],
   "source": [
    "from sklearn.metrics.pairwise import pairwise_distances\n",
    "import pandas as pd\n",
    "import matplotlib.pyplot as plt\n",
    "import random\n",
    "from sklearn.utils import shuffle\n",
    "from sklearn.linear_model import LinearRegression\n",
    "from sklearn.model_selection import train_test_split\n",
    "from sklearn.preprocessing import PolynomialFeatures\n",
    "from sklearn.model_selection import KFold\n",
    "from sklearn import preprocessing\n",
    "from model import *"
   ]
  },
  {
   "cell_type": "markdown",
   "metadata": {},
   "source": [
    "## Read data and preprocess"
   ]
  },
  {
   "cell_type": "code",
   "execution_count": 2,
   "metadata": {},
   "outputs": [
    {
     "data": {
      "text/html": [
       "<div>\n",
       "<style scoped>\n",
       "    .dataframe tbody tr th:only-of-type {\n",
       "        vertical-align: middle;\n",
       "    }\n",
       "\n",
       "    .dataframe tbody tr th {\n",
       "        vertical-align: top;\n",
       "    }\n",
       "\n",
       "    .dataframe thead th {\n",
       "        text-align: right;\n",
       "    }\n",
       "</style>\n",
       "<table border=\"1\" class=\"dataframe\">\n",
       "  <thead>\n",
       "    <tr style=\"text-align: right;\">\n",
       "      <th></th>\n",
       "      <th>frequency</th>\n",
       "      <th>angle_of_attack</th>\n",
       "      <th>chord_length</th>\n",
       "      <th>velocity</th>\n",
       "      <th>thickness</th>\n",
       "      <th>pressure_level</th>\n",
       "    </tr>\n",
       "  </thead>\n",
       "  <tbody>\n",
       "    <tr>\n",
       "      <th>0</th>\n",
       "      <td>400</td>\n",
       "      <td>9.9</td>\n",
       "      <td>0.1524</td>\n",
       "      <td>31.7</td>\n",
       "      <td>0.025278</td>\n",
       "      <td>128.939</td>\n",
       "    </tr>\n",
       "    <tr>\n",
       "      <th>1</th>\n",
       "      <td>1600</td>\n",
       "      <td>2.7</td>\n",
       "      <td>0.1524</td>\n",
       "      <td>71.3</td>\n",
       "      <td>0.002439</td>\n",
       "      <td>130.644</td>\n",
       "    </tr>\n",
       "    <tr>\n",
       "      <th>2</th>\n",
       "      <td>800</td>\n",
       "      <td>15.6</td>\n",
       "      <td>0.1016</td>\n",
       "      <td>71.3</td>\n",
       "      <td>0.043726</td>\n",
       "      <td>124.188</td>\n",
       "    </tr>\n",
       "    <tr>\n",
       "      <th>3</th>\n",
       "      <td>4000</td>\n",
       "      <td>9.9</td>\n",
       "      <td>0.1524</td>\n",
       "      <td>71.3</td>\n",
       "      <td>0.019300</td>\n",
       "      <td>115.079</td>\n",
       "    </tr>\n",
       "    <tr>\n",
       "      <th>4</th>\n",
       "      <td>20000</td>\n",
       "      <td>0.0</td>\n",
       "      <td>0.2286</td>\n",
       "      <td>71.3</td>\n",
       "      <td>0.002143</td>\n",
       "      <td>114.474</td>\n",
       "    </tr>\n",
       "  </tbody>\n",
       "</table>\n",
       "</div>"
      ],
      "text/plain": [
       "   frequency  angle_of_attack  chord_length  velocity  thickness  \\\n",
       "0        400              9.9        0.1524      31.7   0.025278   \n",
       "1       1600              2.7        0.1524      71.3   0.002439   \n",
       "2        800             15.6        0.1016      71.3   0.043726   \n",
       "3       4000              9.9        0.1524      71.3   0.019300   \n",
       "4      20000              0.0        0.2286      71.3   0.002143   \n",
       "\n",
       "   pressure_level  \n",
       "0         128.939  \n",
       "1         130.644  \n",
       "2         124.188  \n",
       "3         115.079  \n",
       "4         114.474  "
      ]
     },
     "execution_count": 2,
     "metadata": {},
     "output_type": "execute_result"
    }
   ],
   "source": [
    "# Read data and shuffle\n",
    "data = pd.read_csv('airfoil_self_noise.dat',sep='\\t',names=['frequency','angle_of_attack','chord_length','velocity','thickness','pressure_level'])\n",
    "data = shuffle(data,random_state=100).reset_index(drop=True)\n",
    "data.head()"
   ]
  },
  {
   "cell_type": "code",
   "execution_count": 3,
   "metadata": {},
   "outputs": [],
   "source": [
    "# Normalize data and split into train test by 80/20 ratio\n",
    "X = preprocessing.normalize(data.iloc[:,:-1].values)\n",
    "y = data.pressure_level.values\n",
    "X_train, X_test, y_train, y_test = train_test_split(X,y,test_size=0.2,random_state=100)"
   ]
  },
  {
   "cell_type": "code",
   "execution_count": null,
   "metadata": {},
   "outputs": [],
   "source": []
  },
  {
   "cell_type": "markdown",
   "metadata": {},
   "source": [
    "# K-fold cross validation to test performance\n",
    "- We will proceed to choose one of the following models: linear regression, polynomial regression with degree 2, 4 or 8\n",
    "- We will employ k-fold cross validation on train set and looking at the errors to determine the model, then train on all train set and predict on the held out test set"
   ]
  },
  {
   "cell_type": "code",
   "execution_count": 4,
   "metadata": {},
   "outputs": [
    {
     "name": "stdout",
     "output_type": "stream",
     "text": [
      "Performing 5-fold cross validation across 4 different models:\n",
      "Linear Regression Model:\n",
      "\tAverage training MSE: 36.570072184033386\n",
      "\tAverage testing MSE: 37.09543505449684\n",
      "Polynomial Model with Degree 2:\n",
      "\tAverage training MSE: 27.41044943694407\n",
      "\tAverage testing MSE: 28.67781185993119\n",
      "Polynomial Model with Degree 4:\n",
      "\tAverage training MSE: 24.529072930700657\n",
      "\tAverage testing MSE: 28.144484707152678\n",
      "Polynomial Model with Degree 8:\n",
      "\tAverage training MSE: 22.519528963256285\n",
      "\tAverage testing MSE: 32.710681513385396\n"
     ]
    }
   ],
   "source": [
    "# Perform KFold cross validation to choose the model\n",
    "kf = KFold(n_splits=5)\n",
    "\n",
    "# Models (degree 1 = normal linear regression)\n",
    "degrees = [1,2,4,8]\n",
    "print(\"Performing 5-fold cross validation across 4 different models:\")\n",
    "average_test_errors = []\n",
    "average_train_errors = []\n",
    "for degree in degrees:\n",
    "    train_errors = []\n",
    "    test_errors = []\n",
    "    # Start KFold for current degree of polynomial\n",
    "    for train_index, val_index in kf.split(X_train):\n",
    "        # Split to train and test for this fold\n",
    "        X_train_kfold, X_val = X_train[train_index], X_train[val_index]\n",
    "        y_train_kfold, y_val = y_train[train_index], y_train[val_index]\n",
    "\n",
    "        # Create polynomial features\n",
    "        if degree != 1:\n",
    "            poly_reg = PolynomialFeatures(degree=degree)\n",
    "            X_train_poly = poly_reg.fit_transform(X_train_kfold)\n",
    "            X_test_poly = poly_reg.fit_transform(X_val)\n",
    "        else:\n",
    "            X_train_poly = X_train_kfold\n",
    "            X_test_poly = X_val\n",
    "            \n",
    "        # Train LR\n",
    "        lr = LinearRegressionExplicit()\n",
    "        lr.fit(X_train_poly,y_train_kfold)\n",
    "\n",
    "        # Predict and error\n",
    "        train_pred = lr.predict(X_train_poly)\n",
    "        test_pred = lr.predict(X_test_poly)\n",
    "\n",
    "        # Save the MSE of this fold\n",
    "        train_errors.append(regression_error(train_pred,y_train_kfold))\n",
    "        test_errors.append(regression_error(test_pred,y_val))\n",
    "\n",
    "    # Average the MSE across 5 fold for each mapping\n",
    "    average_test_errors.append(np.average(test_errors))\n",
    "    average_train_errors.append(np.average(train_errors))\n",
    "\n",
    "for i, (average_train_error, average_test_error) in enumerate(zip(average_train_errors,average_test_errors)):\n",
    "    if degrees[i] == 1:\n",
    "        print(f\"Linear Regression Model:\")\n",
    "    else:\n",
    "        print(f\"Polynomial Model with Degree {degrees[i]}:\")\n",
    "    print(f\"\\tAverage training MSE: {average_train_error}\")\n",
    "    print(f\"\\tAverage testing MSE: {average_test_error}\")"
   ]
  },
  {
   "cell_type": "code",
   "execution_count": 5,
   "metadata": {},
   "outputs": [
    {
     "name": "stdout",
     "output_type": "stream",
     "text": [
      "MSE on the held out test set: 30.78141511898778\n"
     ]
    }
   ],
   "source": [
    "# Train on whole training set and predict on the held out test set\n",
    "poly_reg = PolynomialFeatures(degree=4)\n",
    "X_train_poly = poly_reg.fit_transform(X_train)\n",
    "X_test_poly = poly_reg.fit_transform(X_test)\n",
    "\n",
    "# Train LR on the polynomial features\n",
    "lr = LinearRegressionExplicit()\n",
    "lr.fit(X_train_poly,y_train)\n",
    "\n",
    "pred = lr.predict(X_test_poly)\n",
    "print(f\"MSE on the held out test set: {regression_error(pred,y_test)}\")"
   ]
  },
  {
   "cell_type": "code",
   "execution_count": null,
   "metadata": {},
   "outputs": [],
   "source": []
  },
  {
   "cell_type": "code",
   "execution_count": null,
   "metadata": {},
   "outputs": [],
   "source": []
  }
 ],
 "metadata": {
  "kernelspec": {
   "display_name": "Python 3",
   "language": "python",
   "name": "python3"
  },
  "language_info": {
   "codemirror_mode": {
    "name": "ipython",
    "version": 3
   },
   "file_extension": ".py",
   "mimetype": "text/x-python",
   "name": "python",
   "nbconvert_exporter": "python",
   "pygments_lexer": "ipython3",
   "version": "3.7.3"
  }
 },
 "nbformat": 4,
 "nbformat_minor": 2
}
